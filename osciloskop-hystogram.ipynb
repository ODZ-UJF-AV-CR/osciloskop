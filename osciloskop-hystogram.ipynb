{
 "cells": [
  {
   "cell_type": "markdown",
   "metadata": {},
   "source": [
    "# Plots of oscilloscope records"
   ]
  },
  {
   "cell_type": "code",
   "execution_count": null,
   "metadata": {
    "collapsed": true
   },
   "outputs": [],
   "source": [
    "import matplotlib.pyplot as plt\n",
    "import sys\n",
    "import os\n",
    "import time\n",
    "import h5py\n",
    "import numpy as np\n"
   ]
  },
  {
   "cell_type": "markdown",
   "metadata": {},
   "source": [
    "## Read waveforms from the file"
   ]
  },
  {
   "cell_type": "code",
   "execution_count": null,
   "metadata": {
    "collapsed": false
   },
   "outputs": [],
   "source": [
    "%matplotlib inline \n",
    "\n",
    "import matplotlib.pyplot as plt\n",
    "import sys\n",
    "import os\n",
    "import time\n",
    "import h5py\n",
    "import numpy as np\n",
    "\n",
    "\n",
    "with h5py.File('./data/data01.h5','r') as hf:\n",
    "    #print('List of arrays in this file: \\n', hf.keys())\n",
    "    print 'XINC:', np.array(hf.get('XINC')), '   YINC:', np.array(hf.get('YINC')), '   FRAMES:', np.array(hf.get('FRAMES')), '   TRIG:', np.array(hf.get('TRIG')), '   YORIGIN:', np.array(hf.get('YORIGIN'))\n",
    "    frames = np.array(hf.get('FRAMES'))\n",
    "    for n in range(1,frames+1):\n",
    "        data = hf.get(str(n))\n",
    "        np_data = 1.0*np.array(data)\n",
    "        np_data += 0.5*np.array(hf.get('YORIGIN'))\n",
    "        np_data = np.array(hf.get('YINC'))*np_data\n",
    "        \n",
    "        plt.plot(np_data)\n",
    "        #print np_data\n",
    "        maximum = 0\n",
    "        minimum = 255\n",
    "        suma = 0\n",
    "        for i in range(1400):\n",
    "            if np_data[i] > maximum:\n",
    "                maximum = np_data[i]\n",
    "            if np_data[i] < minimum:\n",
    "                minimum = np_data[i]\n",
    "            suma = suma + np_data[i]\n",
    "        if n<10:\n",
    "            print n,',', minimum,',', maximum,',', suma"
   ]
  },
  {
   "cell_type": "markdown",
   "metadata": {},
   "source": [
    "## Parse all data files in current directory\n",
    "Read in all the data files in current directory and process them into a histogram."
   ]
  },
  {
   "cell_type": "code",
   "execution_count": null,
   "metadata": {
    "collapsed": false,
    "scrolled": false
   },
   "outputs": [],
   "source": [
    "%matplotlib inline \n",
    "\n",
    "import matplotlib.pyplot as plt\n",
    "import sys\n",
    "import os\n",
    "import time\n",
    "import h5py\n",
    "import numpy as np\n",
    "import glob\n",
    "import matplotlib\n",
    "\n",
    "plt.figure(figsize=(20,10))\n",
    "\n",
    "x = []\n",
    "y = []\n",
    "z = []\n",
    "all_frames = 0\n",
    "xinc = 0\n",
    "yinc = 0\n",
    "\n",
    "def ProcessData():\n",
    "        global all_frames\n",
    "        global xinc\n",
    "        global yinc\n",
    "        #print('List of arrays in this file: \\n', hf.keys())\n",
    "        xinc = np.array(hf.get('XINC'))\n",
    "        yinc = np.array(hf.get('YINC'))\n",
    "        yorigin = np.array(hf.get('YORIGIN'))\n",
    "        \n",
    "        frames = np.array(hf.get('FRAMES'))\n",
    "        all_frames = all_frames + frames\n",
    "        print 'XINC:', xinc, ' YINC:', yinc, ' FRAMES:', frames, ' YORIGIN:', yorigin \n",
    "        \n",
    "        for n in range(1,frames+1):\n",
    "            data = hf.get(str(n))\n",
    "            #np_data = np.array(data)\n",
    "            np_data = 1.0*np.array(data)\n",
    "            np_data += 0.5*np.array(hf.get('YORIGIN'))\n",
    "            np_data = np.array(hf.get('YINC'))*np_data\n",
    "            #plt.plot(np_data)\n",
    "            #print np_data\n",
    "            maximum = 0\n",
    "            minimum = 255\n",
    "            suma = 0\n",
    "            for i in range(1400):\n",
    "                if np_data[i] > maximum:\n",
    "                    maximum = np_data[i]\n",
    "                if np_data[i] < minimum:\n",
    "                    minimum = np_data[i]\n",
    "                suma = suma + np_data[i]\n",
    "            x.append(maximum)\n",
    "            #y.append(suma/maximum)\n",
    "            y.append(suma)\n",
    "            z.append((maximum))\n",
    "     \n",
    "for f in glob.iglob(\"./data/data*.h5\"): # generator, search immediate subdirectories \n",
    "    print f,\n",
    "    try:\n",
    "        with h5py.File(f,'r') as hf:\n",
    "                ProcessData()\n",
    "    except:        \n",
    "        pass\n",
    "\n",
    "    \n",
    "plt.figure(figsize=(20,10))\n",
    "\n",
    "ble = plt.hist2d(y, x, bins=(500,200), norm=matplotlib.colors.LogNorm(), cmap=plt.cm.jet)\n",
    "#ble = plt.hist2d(y, x, bins=(500,200),  cmap=plt.cm.jet)\n",
    "plt.xlabel('Integral of Pulse [square of the step of A/D convertor]')\n",
    "plt.ylabel('Amplitude of Pulse [step of A/D convertor]')\n",
    "#cb = plt.colorbar()\n",
    "#cb.set_label('Count')"
   ]
  },
  {
   "cell_type": "markdown",
   "metadata": {},
   "source": [
    "# Simply replot the current x, y in a nicer way"
   ]
  },
  {
   "cell_type": "code",
   "execution_count": null,
   "metadata": {
    "collapsed": false,
    "scrolled": true
   },
   "outputs": [],
   "source": [
    "plt.figure(figsize=(20,10))\n",
    "\n",
    "#ble = plt.hist2d(y, x, bins=(1000,250-50),range=np.array([(70000,160000),(50,250)]), norm=matplotlib.colors.LogNorm(), cmap=plt.cm.jet)\n",
    "ble = plt.hist2d(y, x, bins=(1000,250-50), norm=matplotlib.colors.LogNorm(), cmap=plt.cm.jet)\n",
    "#ble = plt.hist2d(y, x, bins=(100,30),range=np.array([(70000, 80000),(50,80)]), norm=matplotlib.colors.LogNorm(), cmap=plt.cm.jet)\n",
    "plt.xlabel('Integral of Pulse [square of the step of A/D convertor]')\n",
    "plt.ylabel('Amplitude of Pulse [step of A/D convertor]')\n",
    "plt.title('Sklenicka, V_bias 3 V, step of ADC = ' + str(yinc) + ' [V], step of time = ' + str(xinc) + ' [s], frames = '+ str(all_frames))\n",
    "cb = plt.colorbar()\n",
    "cb.set_label('Count')"
   ]
  },
  {
   "cell_type": "code",
   "execution_count": null,
   "metadata": {
    "collapsed": true
   },
   "outputs": [],
   "source": []
  },
  {
   "cell_type": "code",
   "execution_count": null,
   "metadata": {
    "collapsed": true
   },
   "outputs": [],
   "source": []
  }
 ],
 "metadata": {
  "kernelspec": {
   "display_name": "Python 2",
   "language": "python",
   "name": "python2"
  },
  "language_info": {
   "codemirror_mode": {
    "name": "ipython",
    "version": 2
   },
   "file_extension": ".py",
   "mimetype": "text/x-python",
   "name": "python",
   "nbconvert_exporter": "python",
   "pygments_lexer": "ipython2",
   "version": "2.7.13"
  }
 },
 "nbformat": 4,
 "nbformat_minor": 1
}
