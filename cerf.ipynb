{
 "cells": [
  {
   "cell_type": "markdown",
   "metadata": {},
   "source": [
    "# Oscilloskope utility – using Ethernet"
   ]
  },
  {
   "cell_type": "code",
   "execution_count": 1,
   "metadata": {
    "collapsed": false
   },
   "outputs": [
    {
     "name": "stdout",
     "output_type": "stream",
     "text": [
      "Initializing connection to: TCPIP::10.1.1.35::INSTR\n",
      "RIGOL TECHNOLOGIES,DS6104,DS6A192700022,00.02.00.SP5\n"
     ]
    }
   ],
   "source": [
    "import matplotlib.pyplot as plt\n",
    "import sys\n",
    "import os\n",
    "import time\n",
    "import h5py\n",
    "import numpy as np\n",
    "import glob\n",
    "import vxi11\n",
    "\n",
    "# Step 0:\n",
    "# Connect oscilloscope via direct Ethernet link\n",
    "# Step 1:\n",
    "# Run \"Record\" on the oscilloscope\n",
    "# and wait for 508 frames to be acquired.\n",
    "# Step 2:\n",
    "# Run this cell to initialize grabbing.\n",
    "\n",
    "\n",
    "# This will need a rewrite\n",
    "class TmcDriver:\n",
    "\n",
    "    def __init__(self, device):\n",
    "        print(\"Initializing connection to: \" + device)\n",
    "        self.device = device\n",
    "        self.instr = vxi11.Instrument(device)\n",
    " \n",
    "    def write(self, command):\n",
    "        self.instr.write(command);\n",
    "\n",
    "    def read(self, length = 500):\n",
    "        return self.instr.read(length)\n",
    "\n",
    "    def read_raw(self, length = 500):\n",
    "        return self.instr.read_raw(length)\n",
    " \n",
    "    def getName(self):\n",
    "        self.write(\"*IDN?\")\n",
    "        return self.read(300)\n",
    "    \n",
    "    def ask(self, command):\n",
    "        return self.instr.ask(command)\n",
    " \n",
    "    def sendReset(self):\n",
    "        self.write(\"*RST\")  # Be carefull, this real resets an oscilloscope\n",
    "        \n",
    "# Default oscilloscope record timeout [s]\n",
    "loop_sleep_time = 60\n",
    "        \n",
    "# For Ethernet\n",
    "#osc = TmcDriver(\"TCPIP::147.231.24.72::INSTR\")\n",
    "osc = TmcDriver(\"TCPIP::10.1.1.35::INSTR\")\n",
    "print(osc.ask(\"*IDN?\"))"
   ]
  },
  {
   "cell_type": "markdown",
   "metadata": {},
   "source": [
    "## Read repeatedly records from oscilloscope\n",
    "This should be run after the initialization step. Timeout at the end should be enlarged if not all 508 frames are transferred."
   ]
  },
  {
   "cell_type": "code",
   "execution_count": 4,
   "metadata": {
    "collapsed": false
   },
   "outputs": [
    {
     "name": "stdout",
     "output_type": "stream",
     "text": [
      "XINC: 4e-08 YINC: 0.0003125 TRIG: 0.0146 YORIGIN: -119.0 XORIGIN: -7.959998e-06 FRAMES: 999 SUBRUN 1\n",
      "  Subrun finished, Enter to continue.\n",
      "\n",
      "XINC: 4e-08 YINC: 0.0003125 TRIG: 0.0146 YORIGIN: -119.0 XORIGIN: -7.959998e-06 FRAMES: 999 SUBRUN 2\n",
      "  Subrun finished, Enter to continue.\n",
      "\n",
      "XINC: 4e-08 YINC: 0.0003125 TRIG: 0.0146 YORIGIN: -119.0 XORIGIN: -7.959998e-06 FRAMES: 999 SUBRUN 3\n",
      "  Subrun finished, Enter to continue.\n",
      "\n",
      "XINC: 4e-08 YINC: 0.0003125 TRIG: 0.0146 YORIGIN: -119.0 XORIGIN: -7.959998e-06 FRAMES: 999 SUBRUN 4\n",
      "  Subrun finished, Enter to continue.\n",
      "\n",
      "XINC: 4e-08 YINC: 0.0003125 TRIG: 0.0146 YORIGIN: -119.0 XORIGIN: -7.959998e-06 FRAMES: 999 SUBRUN 5\n",
      "  Subrun finished, Enter to continue.\n",
      "\n",
      "XINC: 4e-08 YINC: 0.0003125 TRIG: 0.0146 YORIGIN: -119.0 XORIGIN: -7.959998e-06 FRAMES: 999 SUBRUN 6\n",
      "  Subrun finished, Enter to continue.\n",
      "\n",
      "XINC: 4e-08 YINC: 0.0003125 TRIG: 0.0146 YORIGIN: -119.0 XORIGIN: -7.959998e-06 FRAMES: 999 SUBRUN 7\n",
      "  Subrun finished, Enter to continue.\n",
      "\n",
      "XINC: 4e-08 YINC: 0.0003125 TRIG: 0.0146 YORIGIN: -119.0 XORIGIN: -7.959998e-06 FRAMES: 999 SUBRUN 8\n",
      "  Subrun finished, Enter to continue.\n",
      "\n",
      "XINC: 4e-08 YINC: 0.0003125 TRIG: 0.0146 YORIGIN: -119.0 XORIGIN: -7.959998e-06 FRAMES: 999 SUBRUN 9\n",
      "  Subrun finished, Enter to continue.\n",
      "\n",
      "XINC: 4e-08 YINC: 0.0003125 TRIG: 0.0146 YORIGIN: -119.0 XORIGIN: -7.959998e-06 FRAMES: 999 SUBRUN 10\n",
      "  Subrun finished, Enter to continue.\n",
      "\n",
      "XINC: 4e-08 YINC: 0.0003125 TRIG: 0.0146 YORIGIN: -119.0 XORIGIN: -7.959998e-06 FRAMES: 999 SUBRUN 11\n",
      "  Subrun finished, Enter to continue.\n",
      "\n",
      "XINC: 4e-08 YINC: 0.0003125 TRIG: 0.0146 YORIGIN: -119.0 XORIGIN: -7.959998e-06 FRAMES: 999 SUBRUN 12\n",
      "  Subrun finished, Enter to continue.\n",
      "\n",
      "XINC: 4e-08 YINC: 0.0003125 TRIG: 0.0146 YORIGIN: -119.0 XORIGIN: -7.959998e-06 FRAMES: 999 SUBRUN 13\n",
      "  Subrun finished, Enter to continue.\n"
     ]
    },
    {
     "ename": "KeyboardInterrupt",
     "evalue": "",
     "output_type": "error",
     "traceback": [
      "\u001b[0;31m---------------------------------------------------------------------------\u001b[0m",
      "\u001b[0;31mKeyboardInterrupt\u001b[0m                         Traceback (most recent call last)",
      "\u001b[0;32m<ipython-input-4-9f6100d9d28a>\u001b[0m in \u001b[0;36m<module>\u001b[0;34m()\u001b[0m\n\u001b[1;32m     70\u001b[0m \u001b[0;34m\u001b[0m\u001b[0m\n\u001b[1;32m     71\u001b[0m     \u001b[0;32mprint\u001b[0m\u001b[0;34m(\u001b[0m\u001b[0;34m'  Subrun finished, Enter to continue.'\u001b[0m\u001b[0;34m)\u001b[0m\u001b[0;34m\u001b[0m\u001b[0m\n\u001b[0;32m---> 72\u001b[0;31m     \u001b[0mraw_input\u001b[0m\u001b[0;34m(\u001b[0m\u001b[0;34m)\u001b[0m\u001b[0;34m\u001b[0m\u001b[0m\n\u001b[0m\u001b[1;32m     73\u001b[0m     \u001b[0;31m#print(' We were waiting for ', time.time() - run_start_time())\u001b[0m\u001b[0;34m\u001b[0m\u001b[0;34m\u001b[0m\u001b[0m\n\u001b[1;32m     74\u001b[0m \u001b[0;34m\u001b[0m\u001b[0m\n",
      "\u001b[0;32m/usr/local/lib/python2.7/dist-packages/ipykernel/kernelbase.pyc\u001b[0m in \u001b[0;36mraw_input\u001b[0;34m(self, prompt)\u001b[0m\n\u001b[1;32m    692\u001b[0m             \u001b[0mself\u001b[0m\u001b[0;34m.\u001b[0m\u001b[0m_parent_ident\u001b[0m\u001b[0;34m,\u001b[0m\u001b[0;34m\u001b[0m\u001b[0m\n\u001b[1;32m    693\u001b[0m             \u001b[0mself\u001b[0m\u001b[0;34m.\u001b[0m\u001b[0m_parent_header\u001b[0m\u001b[0;34m,\u001b[0m\u001b[0;34m\u001b[0m\u001b[0m\n\u001b[0;32m--> 694\u001b[0;31m             \u001b[0mpassword\u001b[0m\u001b[0;34m=\u001b[0m\u001b[0mFalse\u001b[0m\u001b[0;34m,\u001b[0m\u001b[0;34m\u001b[0m\u001b[0m\n\u001b[0m\u001b[1;32m    695\u001b[0m         )\n\u001b[1;32m    696\u001b[0m \u001b[0;34m\u001b[0m\u001b[0m\n",
      "\u001b[0;32m/usr/local/lib/python2.7/dist-packages/ipykernel/kernelbase.pyc\u001b[0m in \u001b[0;36m_input_request\u001b[0;34m(self, prompt, ident, parent, password)\u001b[0m\n\u001b[1;32m    722\u001b[0m             \u001b[0;32mexcept\u001b[0m \u001b[0mKeyboardInterrupt\u001b[0m\u001b[0;34m:\u001b[0m\u001b[0;34m\u001b[0m\u001b[0m\n\u001b[1;32m    723\u001b[0m                 \u001b[0;31m# re-raise KeyboardInterrupt, to truncate traceback\u001b[0m\u001b[0;34m\u001b[0m\u001b[0;34m\u001b[0m\u001b[0m\n\u001b[0;32m--> 724\u001b[0;31m                 \u001b[0;32mraise\u001b[0m \u001b[0mKeyboardInterrupt\u001b[0m\u001b[0;34m\u001b[0m\u001b[0m\n\u001b[0m\u001b[1;32m    725\u001b[0m             \u001b[0;32melse\u001b[0m\u001b[0;34m:\u001b[0m\u001b[0;34m\u001b[0m\u001b[0m\n\u001b[1;32m    726\u001b[0m                 \u001b[0;32mbreak\u001b[0m\u001b[0;34m\u001b[0m\u001b[0m\n",
      "\u001b[0;31mKeyboardInterrupt\u001b[0m: "
     ]
    }
   ],
   "source": [
    "filename = 1\n",
    "run_start_time = time.time()\n",
    "    \n",
    "if (filename == 1):\n",
    "    for f in glob.iglob(\"./data2/*.h5\"): # delete all .h5 files \n",
    "        print 'Deleting', f\n",
    "        os.remove(f)\n",
    "else:\n",
    "    print 'Not removing old files, as filename {0} is not 1.'.format(filename)\n",
    "\n",
    "while True:\n",
    "    osc.write(':WAV:SOUR CHAN1')\n",
    "    osc.write(':WAV:MODE NORM')\n",
    "    osc.write(':WAV:FORM BYTE')\n",
    "    osc.write(':WAV:POIN 1400')\n",
    "\n",
    "    osc.write(':WAV:XINC?')\n",
    "    xinc = float(osc.read(100))\n",
    "    print 'XINC:', xinc,\n",
    "    osc.write(':WAV:YINC?')\n",
    "    yinc = float(osc.read(100))\n",
    "    print 'YINC:', yinc,\n",
    "    osc.write(':TRIGger:EDGe:LEVel?')\n",
    "    trig = float(osc.read(100))\n",
    "    print 'TRIG:', trig,\n",
    "    osc.write(':WAVeform:YORigin?')\n",
    "    yorig = float(osc.read(100))\n",
    "    print 'YORIGIN:', yorig,\n",
    "    osc.write(':WAVeform:XORigin?')\n",
    "    xorig = float(osc.read(100))\n",
    "    print 'XORIGIN:', xorig,\n",
    "    \n",
    "\n",
    "    osc.write(':FUNC:WREP:FEND?') # get number of last frame\n",
    "    frames = int(osc.read(100))\n",
    "    print 'FRAMES:', frames, 'SUBRUN', filename\n",
    "    \n",
    "    # This is not good if the scaling is different and frames are for example just 254\n",
    "    # if (frames < 508):\n",
    "    #    loop_sleep_time += 10\n",
    "    \n",
    "    with h5py.File('./data2/t'+'{:02.0f}'.format(filename)+'.h5', 'w') as hf:       \n",
    "        hf.create_dataset('FRAMES', data=(frames)) # write number of frames\n",
    "        hf.create_dataset('XINC', data=(xinc)) # write axis parameters\n",
    "        hf.create_dataset('YINC', data=(yinc))\n",
    "        hf.create_dataset('TRIG', data=(trig))\n",
    "        hf.create_dataset('YORIGIN', data=(yorig))\n",
    "        hf.create_dataset('XORIGIN', data=(xorig))\n",
    "        osc.write(':FUNC:WREP:FCUR 1') # skip to n-th frame\n",
    "        time.sleep(0.5)\n",
    "        for n in range(1,frames+1):\n",
    "            osc.write(':FUNC:WREP:FCUR ' + str(n)) # skip to n-th frame\n",
    "            time.sleep(0.001)\n",
    "\n",
    "            osc.write(':WAV:DATA?') # read data\n",
    "            #time.sleep(0.4)\n",
    "            wave1 = bytearray(osc.read_raw(500))\n",
    "            wave2 = bytearray(osc.read_raw(500))\n",
    "            wave3 = bytearray(osc.read_raw(500))\n",
    "            #wave4 = bytearray(osc.read(500))\n",
    "            #wave = np.concatenate((wave1[11:],wave2[:(500-489)],wave3[:(700-489)]))\n",
    "            wave = np.concatenate((wave1[11:],wave2,wave3[:-1]))\n",
    "            hf.create_dataset(str(n), data=wave)\n",
    "    filename = filename + 1\n",
    "    osc.write(':FUNC:WREC:OPER REC') # start recording\n",
    "        \n",
    "    print('  Subrun finished, Enter to continue.')\n",
    "    raw_input()\n",
    "    #time.sleep(5*60) # delay for capturing\n",
    "    "
   ]
  },
  {
   "cell_type": "markdown",
   "metadata": {},
   "source": [
    "### Stopwatch for timing the first loop"
   ]
  },
  {
   "cell_type": "code",
   "execution_count": null,
   "metadata": {
    "collapsed": false
   },
   "outputs": [],
   "source": [
    "first_run_start_time = time.time()\n",
    "raw_input()\n",
    "loop_sleep_time = time.time() - first_run_start_time + 15\n",
    "print loop_sleep_time"
   ]
  },
  {
   "cell_type": "code",
   "execution_count": 9,
   "metadata": {
    "collapsed": true
   },
   "outputs": [],
   "source": [
    "loop_sleep_time=60"
   ]
  },
  {
   "cell_type": "code",
   "execution_count": null,
   "metadata": {
    "collapsed": true
   },
   "outputs": [],
   "source": []
  }
 ],
 "metadata": {
  "kernelspec": {
   "display_name": "Python 2",
   "language": "python",
   "name": "python2"
  },
  "language_info": {
   "codemirror_mode": {
    "name": "ipython",
    "version": 2
   },
   "file_extension": ".py",
   "mimetype": "text/x-python",
   "name": "python",
   "nbconvert_exporter": "python",
   "pygments_lexer": "ipython2",
   "version": "2.7.13"
  }
 },
 "nbformat": 4,
 "nbformat_minor": 2
}
