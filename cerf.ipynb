{
 "cells": [
  {
   "cell_type": "markdown",
   "metadata": {},
   "source": [
    "# Oscilloskope utility – using Ethernet"
   ]
  },
  {
   "cell_type": "code",
   "execution_count": 12,
   "metadata": {},
   "outputs": [
    {
     "name": "stdout",
     "output_type": "stream",
     "text": [
      "Initializing connection to: TCPIP::10.9.9.100::INSTR\n",
      "RIGOL TECHNOLOGIES,DS2072A,DS2D204202923,00.03.05.SP4\n"
     ]
    }
   ],
   "source": [
    "import matplotlib.pyplot as plt\n",
    "import sys\n",
    "import os\n",
    "import time\n",
    "import h5py\n",
    "import numpy as np\n",
    "import glob\n",
    "import vxi11\n",
    "\n",
    "# Step 0:\n",
    "# Connect oscilloscope via direct Ethernet link\n",
    "# Step 1:\n",
    "# Run \"Record\" on the oscilloscope\n",
    "# and wait for 508 frames to be acquired.\n",
    "# Step 2:\n",
    "# Run this cell to initialize grabbing.\n",
    "\n",
    "\n",
    "# This will need a rewrite\n",
    "class TmcDriver:\n",
    "\n",
    "    def __init__(self, device):\n",
    "        print(\"Initializing connection to: \" + device)\n",
    "        self.device = device\n",
    "        self.instr = vxi11.Instrument(device)\n",
    " \n",
    "    def write(self, command):\n",
    "        self.instr.write(command);\n",
    "\n",
    "    def read(self, length = 500):\n",
    "        return self.instr.read(length)\n",
    "\n",
    "    def read_raw(self, length = 500):\n",
    "        return self.instr.read_raw(length)\n",
    " \n",
    "    def getName(self):\n",
    "        self.write(\"*IDN?\")\n",
    "        return self.read(300)\n",
    "    \n",
    "    def ask(self, command):\n",
    "        return self.instr.ask(command)\n",
    " \n",
    "    def sendReset(self):\n",
    "        self.write(\"*RST\")  # Be carefull, this real resets an oscilloscope\n",
    "        \n",
    "# Default oscilloscope record timeout [s]\n",
    "loop_sleep_time = 60\n",
    "        \n",
    "# For Ethernet\n",
    "#osc = TmcDriver(\"TCPIP::147.231.24.72::INSTR\")\n",
    "osc = TmcDriver(\"TCPIP::10.9.9.100::INSTR\")\n",
    "print(osc.ask(\"*IDN?\"))"
   ]
  },
  {
   "cell_type": "markdown",
   "metadata": {},
   "source": [
    "## Read repeatedly records from oscilloscope\n",
    "This should be run after the initialization step. Timeout at the end should be enlarged if not all 508 frames are transferred."
   ]
  },
  {
   "cell_type": "code",
   "execution_count": 14,
   "metadata": {},
   "outputs": [
    {
     "name": "stdout",
     "output_type": "stream",
     "text": [
      "XINC: 5e-07 YINC: 0.0004 TRIG: -0.01 YORIGIN: 47.0 XORIGIN: -0.00035 FRAMES: 18 SUBRUN 1\n",
      "  Subrun finished, press Enter to continue.\n",
      "\n",
      "XINC: 5e-07 YINC: 0.0004 TRIG: -0.01 YORIGIN: 47.0 XORIGIN: -0.00035 FRAMES: 0 SUBRUN 2\n",
      "  Subrun finished, press Enter to continue.\n",
      "\n",
      "XINC: 5e-07 YINC: 0.0004 TRIG: -0.01 YORIGIN: 47.0 XORIGIN: -0.00035 FRAMES: 0 SUBRUN 3\n",
      "  Subrun finished, press Enter to continue.\n"
     ]
    },
    {
     "ename": "KeyboardInterrupt",
     "evalue": "Interrupted by user",
     "output_type": "error",
     "traceback": [
      "\u001b[0;31m---------------------------------------------------------------------------\u001b[0m",
      "\u001b[0;31mKeyboardInterrupt\u001b[0m                         Traceback (most recent call last)",
      "Cell \u001b[0;32mIn[14], line 74\u001b[0m\n\u001b[1;32m     71\u001b[0m osc\u001b[38;5;241m.\u001b[39mwrite(\u001b[38;5;124m'\u001b[39m\u001b[38;5;124m:FUNC:WREC:OPER REC\u001b[39m\u001b[38;5;124m'\u001b[39m)  \u001b[38;5;66;03m# start recording\u001b[39;00m\n\u001b[1;32m     73\u001b[0m \u001b[38;5;28mprint\u001b[39m(\u001b[38;5;124m'\u001b[39m\u001b[38;5;124m  Subrun finished, press Enter to continue.\u001b[39m\u001b[38;5;124m'\u001b[39m)\n\u001b[0;32m---> 74\u001b[0m \u001b[38;5;28;43minput\u001b[39;49m\u001b[43m(\u001b[49m\u001b[43m)\u001b[49m\n",
      "File \u001b[0;32m/usr/lib/python3/dist-packages/ipykernel/kernelbase.py:1282\u001b[0m, in \u001b[0;36mKernel.raw_input\u001b[0;34m(self, prompt)\u001b[0m\n\u001b[1;32m   1280\u001b[0m     msg \u001b[38;5;241m=\u001b[39m \u001b[38;5;124m\"\u001b[39m\u001b[38;5;124mraw_input was called, but this frontend does not support input requests.\u001b[39m\u001b[38;5;124m\"\u001b[39m\n\u001b[1;32m   1281\u001b[0m     \u001b[38;5;28;01mraise\u001b[39;00m StdinNotImplementedError(msg)\n\u001b[0;32m-> 1282\u001b[0m \u001b[38;5;28;01mreturn\u001b[39;00m \u001b[38;5;28;43mself\u001b[39;49m\u001b[38;5;241;43m.\u001b[39;49m\u001b[43m_input_request\u001b[49m\u001b[43m(\u001b[49m\n\u001b[1;32m   1283\u001b[0m \u001b[43m    \u001b[49m\u001b[38;5;28;43mstr\u001b[39;49m\u001b[43m(\u001b[49m\u001b[43mprompt\u001b[49m\u001b[43m)\u001b[49m\u001b[43m,\u001b[49m\n\u001b[1;32m   1284\u001b[0m \u001b[43m    \u001b[49m\u001b[38;5;28;43mself\u001b[39;49m\u001b[38;5;241;43m.\u001b[39;49m\u001b[43m_parent_ident\u001b[49m\u001b[43m[\u001b[49m\u001b[38;5;124;43m\"\u001b[39;49m\u001b[38;5;124;43mshell\u001b[39;49m\u001b[38;5;124;43m\"\u001b[39;49m\u001b[43m]\u001b[49m\u001b[43m,\u001b[49m\n\u001b[1;32m   1285\u001b[0m \u001b[43m    \u001b[49m\u001b[38;5;28;43mself\u001b[39;49m\u001b[38;5;241;43m.\u001b[39;49m\u001b[43mget_parent\u001b[49m\u001b[43m(\u001b[49m\u001b[38;5;124;43m\"\u001b[39;49m\u001b[38;5;124;43mshell\u001b[39;49m\u001b[38;5;124;43m\"\u001b[39;49m\u001b[43m)\u001b[49m\u001b[43m,\u001b[49m\n\u001b[1;32m   1286\u001b[0m \u001b[43m    \u001b[49m\u001b[43mpassword\u001b[49m\u001b[38;5;241;43m=\u001b[39;49m\u001b[38;5;28;43;01mFalse\u001b[39;49;00m\u001b[43m,\u001b[49m\n\u001b[1;32m   1287\u001b[0m \u001b[43m\u001b[49m\u001b[43m)\u001b[49m\n",
      "File \u001b[0;32m/usr/lib/python3/dist-packages/ipykernel/kernelbase.py:1325\u001b[0m, in \u001b[0;36mKernel._input_request\u001b[0;34m(self, prompt, ident, parent, password)\u001b[0m\n\u001b[1;32m   1322\u001b[0m \u001b[38;5;28;01mexcept\u001b[39;00m \u001b[38;5;167;01mKeyboardInterrupt\u001b[39;00m:\n\u001b[1;32m   1323\u001b[0m     \u001b[38;5;66;03m# re-raise KeyboardInterrupt, to truncate traceback\u001b[39;00m\n\u001b[1;32m   1324\u001b[0m     msg \u001b[38;5;241m=\u001b[39m \u001b[38;5;124m\"\u001b[39m\u001b[38;5;124mInterrupted by user\u001b[39m\u001b[38;5;124m\"\u001b[39m\n\u001b[0;32m-> 1325\u001b[0m     \u001b[38;5;28;01mraise\u001b[39;00m \u001b[38;5;167;01mKeyboardInterrupt\u001b[39;00m(msg) \u001b[38;5;28;01mfrom\u001b[39;00m \u001b[38;5;28;01mNone\u001b[39;00m\n\u001b[1;32m   1326\u001b[0m \u001b[38;5;28;01mexcept\u001b[39;00m \u001b[38;5;167;01mException\u001b[39;00m:\n\u001b[1;32m   1327\u001b[0m     \u001b[38;5;28mself\u001b[39m\u001b[38;5;241m.\u001b[39mlog\u001b[38;5;241m.\u001b[39mwarning(\u001b[38;5;124m\"\u001b[39m\u001b[38;5;124mInvalid Message:\u001b[39m\u001b[38;5;124m\"\u001b[39m, exc_info\u001b[38;5;241m=\u001b[39m\u001b[38;5;28;01mTrue\u001b[39;00m)\n",
      "\u001b[0;31mKeyboardInterrupt\u001b[0m: Interrupted by user"
     ]
    }
   ],
   "source": [
    "import os\n",
    "import glob\n",
    "import time\n",
    "import h5py\n",
    "import numpy as np\n",
    "\n",
    "filename = 1\n",
    "run_start_time = time.time()\n",
    "\n",
    "if filename == 1:\n",
    "    for f in glob.iglob(\"./data2/*.h5\"):  # delete all .h5 files \n",
    "        print('Deleting', f)\n",
    "        os.remove(f)\n",
    "else:\n",
    "    print('Not removing old files, as filename {} is not 1.'.format(filename))\n",
    "\n",
    "while True:\n",
    "    osc.write(':WAV:SOUR CHAN1')\n",
    "    osc.write(':WAV:MODE NORM')\n",
    "    osc.write(':WAV:FORM BYTE')\n",
    "    osc.write(':WAV:POIN 1400')\n",
    "\n",
    "    osc.write(':WAV:XINC?')\n",
    "    xinc = float(osc.read(100))\n",
    "    print('XINC:', xinc, end=' ')\n",
    "    \n",
    "    osc.write(':WAV:YINC?')\n",
    "    yinc = float(osc.read(100))\n",
    "    print('YINC:', yinc, end=' ')\n",
    "    \n",
    "    osc.write(':TRIGger:EDGe:LEVel?')\n",
    "    trig = float(osc.read(100))\n",
    "    print('TRIG:', trig, end=' ')\n",
    "    \n",
    "    osc.write(':WAVeform:YORigin?')\n",
    "    yorig = float(osc.read(100))\n",
    "    print('YORIGIN:', yorig, end=' ')\n",
    "    \n",
    "    osc.write(':WAVeform:XORigin?')\n",
    "    xorig = float(osc.read(100))\n",
    "    print('XORIGIN:', xorig, end=' ')\n",
    "\n",
    "    osc.write(':FUNC:WREP:FEND?')  # get number of last frame\n",
    "    frames = int(osc.read(100))\n",
    "    print('FRAMES:', frames, 'SUBRUN', filename)\n",
    "\n",
    "    with h5py.File(f'./data/t{filename:02.0f}.h5', 'w') as hf:       \n",
    "        hf.create_dataset('FRAMES', data=(frames))\n",
    "        hf.create_dataset('XINC', data=(xinc))\n",
    "        hf.create_dataset('YINC', data=(yinc))\n",
    "        hf.create_dataset('TRIG', data=(trig))\n",
    "        hf.create_dataset('YORIGIN', data=(yorig))\n",
    "        hf.create_dataset('XORIGIN', data=(xorig))\n",
    "\n",
    "        osc.write(':FUNC:WREP:FCUR 1')  # skip to first frame\n",
    "        time.sleep(0.5)\n",
    "\n",
    "        for n in range(1, frames + 1):\n",
    "            osc.write(f':FUNC:WREP:FCUR {n}')\n",
    "            time.sleep(0.001)\n",
    "\n",
    "            osc.write(':WAV:DATA?')  # read data\n",
    "            wave1 = bytearray(osc.read_raw(500))\n",
    "            wave2 = bytearray(osc.read_raw(500))\n",
    "            wave3 = bytearray(osc.read_raw(500))\n",
    "\n",
    "            wave = np.concatenate((wave1[11:], wave2, wave3[:-1]))\n",
    "            hf.create_dataset(str(n), data=wave)\n",
    "\n",
    "    filename += 1\n",
    "    osc.write(':FUNC:WREC:OPER REC')  # start recording\n",
    "\n",
    "    print('  Subrun finished, press Enter to continue.')\n",
    "    input()\n"
   ]
  },
  {
   "cell_type": "markdown",
   "metadata": {},
   "source": [
    "### Stopwatch for timing the first loop"
   ]
  },
  {
   "cell_type": "code",
   "execution_count": null,
   "metadata": {},
   "outputs": [],
   "source": [
    "first_run_start_time = time.time()\n",
    "raw_input()\n",
    "loop_sleep_time = time.time() - first_run_start_time + 15\n",
    "print loop_sleep_time"
   ]
  },
  {
   "cell_type": "code",
   "execution_count": 9,
   "metadata": {
    "collapsed": true
   },
   "outputs": [],
   "source": [
    "loop_sleep_time=60"
   ]
  },
  {
   "cell_type": "code",
   "execution_count": null,
   "metadata": {
    "collapsed": true
   },
   "outputs": [],
   "source": []
  }
 ],
 "metadata": {
  "kernelspec": {
   "display_name": "Python 3 (ipykernel)",
   "language": "python",
   "name": "python3"
  },
  "language_info": {
   "codemirror_mode": {
    "name": "ipython",
    "version": 3
   },
   "file_extension": ".py",
   "mimetype": "text/x-python",
   "name": "python",
   "nbconvert_exporter": "python",
   "pygments_lexer": "ipython3",
   "version": "3.12.3"
  }
 },
 "nbformat": 4,
 "nbformat_minor": 2
}
