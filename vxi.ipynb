{
 "cells": [
  {
   "cell_type": "markdown",
   "metadata": {},
   "source": [
    "# Oscilloskope utility – using Ethernet"
   ]
  },
  {
   "cell_type": "code",
   "execution_count": 4,
   "metadata": {
    "collapsed": false
   },
   "outputs": [
    {
     "name": "stdout",
     "output_type": "stream",
     "text": [
      "Initializing connection to: TCPIP::10.1.1.253::INSTR\n",
      "RIGOL TECHNOLOGIES,DS6104,DS6A192700022,00.02.00.SP5\n"
     ]
    }
   ],
   "source": [
    "import matplotlib.pyplot as plt\n",
    "import sys\n",
    "import os\n",
    "import time\n",
    "import h5py\n",
    "import numpy as np\n",
    "import glob\n",
    "import vxi11\n",
    "\n",
    "# Step 0:\n",
    "# Connect oscilloscope via direct Ethernet link\n",
    "# Step 1:\n",
    "# Run \"Record\" on the oscilloscope\n",
    "# and wait for 508 frames to be acquired.\n",
    "# Step 2:\n",
    "# Run this cell to initialize grabbing.\n",
    "\n",
    "\n",
    "# This will need a rewrite\n",
    "class TmcDriver:\n",
    "\n",
    "    def __init__(self, device):\n",
    "        print(\"Initializing connection to: \" + device)\n",
    "        self.device = device\n",
    "        self.instr = vxi11.Instrument(device)\n",
    " \n",
    "    def write(self, command):\n",
    "        self.instr.write(command);\n",
    "\n",
    "    def read(self, length = 500):\n",
    "        return self.instr.read(length)\n",
    "\n",
    "    def read_raw(self, length = 500):\n",
    "        return self.instr.read_raw(length)\n",
    " \n",
    "    def getName(self):\n",
    "        self.write(\"*IDN?\")\n",
    "        return self.read(300)\n",
    "    \n",
    "    def ask(self, command):\n",
    "        return self.instr.ask(command)\n",
    " \n",
    "    def sendReset(self):\n",
    "        self.write(\"*RST\")  # Be carefull, this real resets an oscilloscope\n",
    "        \n",
    "# Default oscilloscope record timeout [s]\n",
    "loop_sleep_time = 60\n",
    "        \n",
    "# For Ethernet\n",
    "#osc = TmcDriver(\"TCPIP::147.231.24.72::INSTR\")\n",
    "osc = TmcDriver(\"TCPIP::10.1.1.253::INSTR\")\n",
    "print(osc.ask(\"*IDN?\"))"
   ]
  },
  {
   "cell_type": "markdown",
   "metadata": {},
   "source": [
    "## Read repeatedly records from oscilloscope"
   ]
  },
  {
   "cell_type": "code",
   "execution_count": 31,
   "metadata": {
    "collapsed": false,
    "scrolled": false
   },
   "outputs": [
    {
     "name": "stdout",
     "output_type": "stream",
     "text": [
      "Deleting ./data/data11.h5\n",
      "Deleting ./data/data29.h5\n",
      "Deleting ./data/data10.h5\n",
      "Deleting ./data/data28.h5\n",
      "Deleting ./data/data14.h5\n",
      "Deleting ./data/data04.h5\n",
      "Deleting ./data/data15.h5\n",
      "Deleting ./data/data26.h5\n",
      "Deleting ./data/data18.h5\n",
      "Deleting ./data/data05.h5\n",
      "Deleting ./data/data25.h5\n",
      "Deleting ./data/data16.h5\n",
      "Deleting ./data/data20.h5\n",
      "Deleting ./data/data24.h5\n",
      "Deleting ./data/data19.h5\n",
      "Deleting ./data/data21.h5\n",
      "Deleting ./data/data22.h5\n",
      "Deleting ./data/data07.h5\n",
      "Deleting ./data/data17.h5\n",
      "Deleting ./data/data03.h5\n",
      "Deleting ./data/data01.h5\n",
      "Deleting ./data/data02.h5\n",
      "Deleting ./data/data06.h5\n",
      "Deleting ./data/data27.h5\n",
      "Deleting ./data/data12.h5\n",
      "Deleting ./data/data23.h5\n",
      "Deleting ./data/data08.h5\n",
      "Deleting ./data/data13.h5\n",
      "Deleting ./data/data09.h5\n",
      "  Capturing...\n"
     ]
    },
    {
     "ename": "KeyboardInterrupt",
     "evalue": "",
     "output_type": "error",
     "traceback": [
      "\u001b[0;31m---------------------------------------------------------------------------\u001b[0m",
      "\u001b[0;31mKeyboardInterrupt\u001b[0m                         Traceback (most recent call last)",
      "\u001b[0;32m<ipython-input-31-1c5240f2cd6d>\u001b[0m in \u001b[0;36m<module>\u001b[0;34m()\u001b[0m\n\u001b[1;32m     23\u001b[0m     \u001b[0;32mwhile\u001b[0m \u001b[0mTrue\u001b[0m\u001b[0;34m:\u001b[0m\u001b[0;34m\u001b[0m\u001b[0m\n\u001b[1;32m     24\u001b[0m         \u001b[0mosc\u001b[0m\u001b[0;34m.\u001b[0m\u001b[0mwrite\u001b[0m\u001b[0;34m(\u001b[0m\u001b[0;34m':FUNC:WREC:OPER?'\u001b[0m\u001b[0;34m)\u001b[0m \u001b[0;31m# finish recording?\u001b[0m\u001b[0;34m\u001b[0m\u001b[0m\n\u001b[0;32m---> 25\u001b[0;31m         \u001b[0mreply\u001b[0m \u001b[0;34m=\u001b[0m \u001b[0mosc\u001b[0m\u001b[0;34m.\u001b[0m\u001b[0mread\u001b[0m\u001b[0;34m(\u001b[0m\u001b[0;34m)\u001b[0m\u001b[0;34m\u001b[0m\u001b[0m\n\u001b[0m\u001b[1;32m     26\u001b[0m         \u001b[0;32mif\u001b[0m \u001b[0mreply\u001b[0m \u001b[0;34m==\u001b[0m \u001b[0;34m'STOP'\u001b[0m\u001b[0;34m:\u001b[0m\u001b[0;34m\u001b[0m\u001b[0m\n\u001b[1;32m     27\u001b[0m             \u001b[0mrun_time\u001b[0m \u001b[0;34m=\u001b[0m \u001b[0mtime\u001b[0m\u001b[0;34m.\u001b[0m\u001b[0mtime\u001b[0m\u001b[0;34m(\u001b[0m\u001b[0;34m)\u001b[0m \u001b[0;34m-\u001b[0m \u001b[0mrun_start_time\u001b[0m\u001b[0;34m\u001b[0m\u001b[0m\n",
      "\u001b[0;32m<ipython-input-4-025928bd90c8>\u001b[0m in \u001b[0;36mread\u001b[0;34m(self, length)\u001b[0m\n\u001b[1;32m     29\u001b[0m \u001b[0;34m\u001b[0m\u001b[0m\n\u001b[1;32m     30\u001b[0m     \u001b[0;32mdef\u001b[0m \u001b[0mread\u001b[0m\u001b[0;34m(\u001b[0m\u001b[0mself\u001b[0m\u001b[0;34m,\u001b[0m \u001b[0mlength\u001b[0m \u001b[0;34m=\u001b[0m \u001b[0;36m500\u001b[0m\u001b[0;34m)\u001b[0m\u001b[0;34m:\u001b[0m\u001b[0;34m\u001b[0m\u001b[0m\n\u001b[0;32m---> 31\u001b[0;31m         \u001b[0;32mreturn\u001b[0m \u001b[0mself\u001b[0m\u001b[0;34m.\u001b[0m\u001b[0minstr\u001b[0m\u001b[0;34m.\u001b[0m\u001b[0mread\u001b[0m\u001b[0;34m(\u001b[0m\u001b[0mlength\u001b[0m\u001b[0;34m)\u001b[0m\u001b[0;34m\u001b[0m\u001b[0m\n\u001b[0m\u001b[1;32m     32\u001b[0m \u001b[0;34m\u001b[0m\u001b[0m\n\u001b[1;32m     33\u001b[0m     \u001b[0;32mdef\u001b[0m \u001b[0mread_raw\u001b[0m\u001b[0;34m(\u001b[0m\u001b[0mself\u001b[0m\u001b[0;34m,\u001b[0m \u001b[0mlength\u001b[0m \u001b[0;34m=\u001b[0m \u001b[0;36m500\u001b[0m\u001b[0;34m)\u001b[0m\u001b[0;34m:\u001b[0m\u001b[0;34m\u001b[0m\u001b[0m\n",
      "\u001b[0;32m/usr/local/lib/python2.7/dist-packages/python_vxi11-0.9-py2.7.egg/vxi11/vxi11.pyc\u001b[0m in \u001b[0;36mread\u001b[0;34m(self, num, encoding)\u001b[0m\n\u001b[1;32m    749\u001b[0m     \u001b[0;32mdef\u001b[0m \u001b[0mread\u001b[0m\u001b[0;34m(\u001b[0m\u001b[0mself\u001b[0m\u001b[0;34m,\u001b[0m \u001b[0mnum\u001b[0m\u001b[0;34m=\u001b[0m\u001b[0;34m-\u001b[0m\u001b[0;36m1\u001b[0m\u001b[0;34m,\u001b[0m \u001b[0mencoding\u001b[0m \u001b[0;34m=\u001b[0m \u001b[0;34m'utf-8'\u001b[0m\u001b[0;34m)\u001b[0m\u001b[0;34m:\u001b[0m\u001b[0;34m\u001b[0m\u001b[0m\n\u001b[1;32m    750\u001b[0m         \u001b[0;34m\"Read string from instrument\"\u001b[0m\u001b[0;34m\u001b[0m\u001b[0m\n\u001b[0;32m--> 751\u001b[0;31m         \u001b[0;32mreturn\u001b[0m \u001b[0mself\u001b[0m\u001b[0;34m.\u001b[0m\u001b[0mread_raw\u001b[0m\u001b[0;34m(\u001b[0m\u001b[0mnum\u001b[0m\u001b[0;34m)\u001b[0m\u001b[0;34m.\u001b[0m\u001b[0mdecode\u001b[0m\u001b[0;34m(\u001b[0m\u001b[0mencoding\u001b[0m\u001b[0;34m)\u001b[0m\u001b[0;34m.\u001b[0m\u001b[0mrstrip\u001b[0m\u001b[0;34m(\u001b[0m\u001b[0;34m'\\r\\n'\u001b[0m\u001b[0;34m)\u001b[0m\u001b[0;34m\u001b[0m\u001b[0m\n\u001b[0m\u001b[1;32m    752\u001b[0m \u001b[0;34m\u001b[0m\u001b[0m\n\u001b[1;32m    753\u001b[0m     \u001b[0;32mdef\u001b[0m \u001b[0mask\u001b[0m\u001b[0;34m(\u001b[0m\u001b[0mself\u001b[0m\u001b[0;34m,\u001b[0m \u001b[0mmessage\u001b[0m\u001b[0;34m,\u001b[0m \u001b[0mnum\u001b[0m\u001b[0;34m=\u001b[0m\u001b[0;34m-\u001b[0m\u001b[0;36m1\u001b[0m\u001b[0;34m,\u001b[0m \u001b[0mencoding\u001b[0m \u001b[0;34m=\u001b[0m \u001b[0;34m'utf-8'\u001b[0m\u001b[0;34m)\u001b[0m\u001b[0;34m:\u001b[0m\u001b[0;34m\u001b[0m\u001b[0m\n",
      "\u001b[0;32m/usr/local/lib/python2.7/dist-packages/python_vxi11-0.9-py2.7.egg/vxi11/vxi11.pyc\u001b[0m in \u001b[0;36mread_raw\u001b[0;34m(self, num)\u001b[0m\n\u001b[1;32m    715\u001b[0m                 \u001b[0mself\u001b[0m\u001b[0;34m.\u001b[0m\u001b[0m_lock_timeout_ms\u001b[0m\u001b[0;34m,\u001b[0m\u001b[0;34m\u001b[0m\u001b[0m\n\u001b[1;32m    716\u001b[0m                 \u001b[0mflags\u001b[0m\u001b[0;34m,\u001b[0m\u001b[0;34m\u001b[0m\u001b[0m\n\u001b[0;32m--> 717\u001b[0;31m                 \u001b[0mterm_char\u001b[0m\u001b[0;34m\u001b[0m\u001b[0m\n\u001b[0m\u001b[1;32m    718\u001b[0m             )\n\u001b[1;32m    719\u001b[0m \u001b[0;34m\u001b[0m\u001b[0m\n",
      "\u001b[0;32m/usr/local/lib/python2.7/dist-packages/python_vxi11-0.9-py2.7.egg/vxi11/vxi11.pyc\u001b[0m in \u001b[0;36mdevice_read\u001b[0;34m(self, link, request_size, timeout, lock_timeout, flags, term_char)\u001b[0m\n\u001b[1;32m    415\u001b[0m         return self.make_call(DEVICE_READ, params,\n\u001b[1;32m    416\u001b[0m                 \u001b[0mself\u001b[0m\u001b[0;34m.\u001b[0m\u001b[0mpacker\u001b[0m\u001b[0;34m.\u001b[0m\u001b[0mpack_device_read_parms\u001b[0m\u001b[0;34m,\u001b[0m\u001b[0;34m\u001b[0m\u001b[0m\n\u001b[0;32m--> 417\u001b[0;31m                 self.unpacker.unpack_device_read_resp)\n\u001b[0m\u001b[1;32m    418\u001b[0m \u001b[0;34m\u001b[0m\u001b[0m\n\u001b[1;32m    419\u001b[0m     \u001b[0;32mdef\u001b[0m \u001b[0mdevice_read_stb\u001b[0m\u001b[0;34m(\u001b[0m\u001b[0mself\u001b[0m\u001b[0;34m,\u001b[0m \u001b[0mlink\u001b[0m\u001b[0;34m,\u001b[0m \u001b[0mflags\u001b[0m\u001b[0;34m,\u001b[0m \u001b[0mlock_timeout\u001b[0m\u001b[0;34m,\u001b[0m \u001b[0mtimeout\u001b[0m\u001b[0;34m)\u001b[0m\u001b[0;34m:\u001b[0m\u001b[0;34m\u001b[0m\u001b[0m\n",
      "\u001b[0;32m/usr/local/lib/python2.7/dist-packages/python_vxi11-0.9-py2.7.egg/vxi11/rpc.pyc\u001b[0m in \u001b[0;36mmake_call\u001b[0;34m(self, proc, args, pack_func, unpack_func)\u001b[0m\n\u001b[1;32m    176\u001b[0m         \u001b[0;32mif\u001b[0m \u001b[0mpack_func\u001b[0m\u001b[0;34m:\u001b[0m\u001b[0;34m\u001b[0m\u001b[0m\n\u001b[1;32m    177\u001b[0m             \u001b[0mpack_func\u001b[0m\u001b[0;34m(\u001b[0m\u001b[0margs\u001b[0m\u001b[0;34m)\u001b[0m\u001b[0;34m\u001b[0m\u001b[0m\n\u001b[0;32m--> 178\u001b[0;31m         \u001b[0mself\u001b[0m\u001b[0;34m.\u001b[0m\u001b[0mdo_call\u001b[0m\u001b[0;34m(\u001b[0m\u001b[0;34m)\u001b[0m\u001b[0;34m\u001b[0m\u001b[0m\n\u001b[0m\u001b[1;32m    179\u001b[0m         \u001b[0;32mif\u001b[0m \u001b[0munpack_func\u001b[0m\u001b[0;34m:\u001b[0m\u001b[0;34m\u001b[0m\u001b[0m\n\u001b[1;32m    180\u001b[0m             \u001b[0mresult\u001b[0m \u001b[0;34m=\u001b[0m \u001b[0munpack_func\u001b[0m\u001b[0;34m(\u001b[0m\u001b[0;34m)\u001b[0m\u001b[0;34m\u001b[0m\u001b[0m\n",
      "\u001b[0;32m/usr/local/lib/python2.7/dist-packages/python_vxi11-0.9-py2.7.egg/vxi11/rpc.pyc\u001b[0m in \u001b[0;36mdo_call\u001b[0;34m(self)\u001b[0m\n\u001b[1;32m    267\u001b[0m         \u001b[0msendrecord\u001b[0m\u001b[0;34m(\u001b[0m\u001b[0mself\u001b[0m\u001b[0;34m.\u001b[0m\u001b[0msock\u001b[0m\u001b[0;34m,\u001b[0m \u001b[0mcall\u001b[0m\u001b[0;34m)\u001b[0m\u001b[0;34m\u001b[0m\u001b[0m\n\u001b[1;32m    268\u001b[0m         \u001b[0;32mwhile\u001b[0m \u001b[0mTrue\u001b[0m\u001b[0;34m:\u001b[0m\u001b[0;34m\u001b[0m\u001b[0m\n\u001b[0;32m--> 269\u001b[0;31m             \u001b[0mreply\u001b[0m \u001b[0;34m=\u001b[0m \u001b[0mrecvrecord\u001b[0m\u001b[0;34m(\u001b[0m\u001b[0mself\u001b[0m\u001b[0;34m.\u001b[0m\u001b[0msock\u001b[0m\u001b[0;34m)\u001b[0m\u001b[0;34m\u001b[0m\u001b[0m\n\u001b[0m\u001b[1;32m    270\u001b[0m             \u001b[0mu\u001b[0m \u001b[0;34m=\u001b[0m \u001b[0mself\u001b[0m\u001b[0;34m.\u001b[0m\u001b[0munpacker\u001b[0m\u001b[0;34m\u001b[0m\u001b[0m\n\u001b[1;32m    271\u001b[0m             \u001b[0mu\u001b[0m\u001b[0;34m.\u001b[0m\u001b[0mreset\u001b[0m\u001b[0;34m(\u001b[0m\u001b[0mreply\u001b[0m\u001b[0;34m)\u001b[0m\u001b[0;34m\u001b[0m\u001b[0m\n",
      "\u001b[0;32m/usr/local/lib/python2.7/dist-packages/python_vxi11-0.9-py2.7.egg/vxi11/rpc.pyc\u001b[0m in \u001b[0;36mrecvrecord\u001b[0;34m(sock)\u001b[0m\n\u001b[1;32m    244\u001b[0m     \u001b[0mlast\u001b[0m \u001b[0;34m=\u001b[0m \u001b[0;36m0\u001b[0m\u001b[0;34m\u001b[0m\u001b[0m\n\u001b[1;32m    245\u001b[0m     \u001b[0;32mwhile\u001b[0m \u001b[0;32mnot\u001b[0m \u001b[0mlast\u001b[0m\u001b[0;34m:\u001b[0m\u001b[0;34m\u001b[0m\u001b[0m\n\u001b[0;32m--> 246\u001b[0;31m         \u001b[0mlast\u001b[0m\u001b[0;34m,\u001b[0m \u001b[0mfrag\u001b[0m \u001b[0;34m=\u001b[0m \u001b[0mrecvfrag\u001b[0m\u001b[0;34m(\u001b[0m\u001b[0msock\u001b[0m\u001b[0;34m)\u001b[0m\u001b[0;34m\u001b[0m\u001b[0m\n\u001b[0m\u001b[1;32m    247\u001b[0m         \u001b[0mrecord\u001b[0m\u001b[0;34m.\u001b[0m\u001b[0mextend\u001b[0m\u001b[0;34m(\u001b[0m\u001b[0mfrag\u001b[0m\u001b[0;34m)\u001b[0m\u001b[0;34m\u001b[0m\u001b[0m\n\u001b[1;32m    248\u001b[0m     \u001b[0;32mreturn\u001b[0m \u001b[0mbytes\u001b[0m\u001b[0;34m(\u001b[0m\u001b[0mrecord\u001b[0m\u001b[0;34m)\u001b[0m\u001b[0;34m\u001b[0m\u001b[0m\n",
      "\u001b[0;32m/usr/local/lib/python2.7/dist-packages/python_vxi11-0.9-py2.7.egg/vxi11/rpc.pyc\u001b[0m in \u001b[0;36mrecvfrag\u001b[0;34m(sock)\u001b[0m\n\u001b[1;32m    227\u001b[0m \u001b[0;34m\u001b[0m\u001b[0m\n\u001b[1;32m    228\u001b[0m \u001b[0;32mdef\u001b[0m \u001b[0mrecvfrag\u001b[0m\u001b[0;34m(\u001b[0m\u001b[0msock\u001b[0m\u001b[0;34m)\u001b[0m\u001b[0;34m:\u001b[0m\u001b[0;34m\u001b[0m\u001b[0m\n\u001b[0;32m--> 229\u001b[0;31m     \u001b[0mheader\u001b[0m \u001b[0;34m=\u001b[0m \u001b[0msock\u001b[0m\u001b[0;34m.\u001b[0m\u001b[0mrecv\u001b[0m\u001b[0;34m(\u001b[0m\u001b[0;36m4\u001b[0m\u001b[0;34m)\u001b[0m\u001b[0;34m\u001b[0m\u001b[0m\n\u001b[0m\u001b[1;32m    230\u001b[0m     \u001b[0;32mif\u001b[0m \u001b[0mlen\u001b[0m\u001b[0;34m(\u001b[0m\u001b[0mheader\u001b[0m\u001b[0;34m)\u001b[0m \u001b[0;34m<\u001b[0m \u001b[0;36m4\u001b[0m\u001b[0;34m:\u001b[0m\u001b[0;34m\u001b[0m\u001b[0m\n\u001b[1;32m    231\u001b[0m         \u001b[0;32mraise\u001b[0m \u001b[0mEOFError\u001b[0m\u001b[0;34m\u001b[0m\u001b[0m\n",
      "\u001b[0;31mKeyboardInterrupt\u001b[0m: "
     ]
    }
   ],
   "source": [
    "filename = 1\n",
    "    \n",
    "if (filename == 1):\n",
    "    for f in glob.iglob(\"./data/*.h5\"): # delete all .h5 files \n",
    "        print 'Deleting', f\n",
    "        os.remove(f)\n",
    "else:\n",
    "    print 'Not removing old files, as filename {0} is not 1.'.format(filename)\n",
    "\n",
    "\n",
    "osc.write(':STOP') # start recording\n",
    "time.sleep(0.5)\n",
    "    \n",
    "while True:\n",
    "    #print('  Enter to continue.')\n",
    "    #raw_input() Wait for key press\n",
    "\n",
    "    osc.write(':FUNC:WREC:OPER REC') # start recording\n",
    "    run_start_time = time.time()\n",
    "    print '  Capturing...'\n",
    "    time.sleep(0.5)\n",
    "    \n",
    "    while True:\n",
    "        osc.write(':FUNC:WREC:OPER?') # finish recording?\n",
    "        reply = osc.read()\n",
    "        if reply == 'STOP':\n",
    "            run_time = time.time() - run_start_time\n",
    "            print('  Subrun finished, capturing for %f seconds.' % run_time)\n",
    "            break\n",
    "\n",
    "    osc.write(':WAV:SOUR CHAN1')\n",
    "    osc.write(':WAV:MODE NORM')\n",
    "    osc.write(':WAV:FORM BYTE')\n",
    "    osc.write(':WAV:POIN 1400')\n",
    "\n",
    "    osc.write(':WAV:XINC?')\n",
    "    xinc = float(osc.read(100))\n",
    "    print 'XINC:', xinc,\n",
    "    osc.write(':WAV:YINC?')\n",
    "    yinc = float(osc.read(100))\n",
    "    print 'YINC:', yinc,\n",
    "    osc.write(':TRIGger:EDGe:LEVel?')\n",
    "    trig = float(osc.read(100))\n",
    "    print 'TRIG:', trig,\n",
    "    osc.write(':WAVeform:YORigin?')\n",
    "    yorig = float(osc.read(100))\n",
    "    print 'YORIGIN:', yorig,\n",
    "    osc.write(':WAVeform:XORigin?')\n",
    "    xorig = float(osc.read(100))\n",
    "    print 'XORIGIN:', xorig,\n",
    "    \n",
    "\n",
    "    osc.write(':FUNC:WREP:FEND?') # get number of last frame\n",
    "    frames = int(osc.read(100))\n",
    "    print 'FRAMES:', frames, 'SUBRUN', filename\n",
    "    \n",
    "    with h5py.File('./data/data'+'{:02.0f}'.format(filename)+'.h5', 'w') as hf:       \n",
    "        hf.create_dataset('FRAMES', data=(frames)) # write number of frames\n",
    "        hf.create_dataset('XINC', data=(xinc)) # write axis parameters\n",
    "        hf.create_dataset('YINC', data=(yinc))\n",
    "        hf.create_dataset('TRIG', data=(trig))\n",
    "        hf.create_dataset('YORIGIN', data=(yorig))\n",
    "        hf.create_dataset('XORIGIN', data=(xorig))\n",
    "        hf.create_dataset('CAPTURING', data=(run_time))\n",
    "        osc.write(':FUNC:WREP:FCUR 1') # skip to n-th frame\n",
    "        time.sleep(0.5)\n",
    "        for n in range(1,frames+1):\n",
    "            osc.write(':FUNC:WREP:FCUR ' + str(n)) # skip to n-th frame\n",
    "            time.sleep(0.001)\n",
    "\n",
    "            osc.write(':WAV:DATA?') # read data\n",
    "            #time.sleep(0.4)\n",
    "            wave1 = bytearray(osc.read_raw(500))\n",
    "            wave2 = bytearray(osc.read_raw(500))\n",
    "            wave3 = bytearray(osc.read_raw(500))\n",
    "            #wave4 = bytearray(osc.read(500))\n",
    "            #wave = np.concatenate((wave1[11:],wave2[:(500-489)],wave3[:(700-489)]))\n",
    "            wave = np.concatenate((wave1[11:],wave2,wave3[:-1]))\n",
    "            hf.create_dataset(str(n), data=wave)\n",
    "    filename = filename + 1\n",
    "    "
   ]
  },
  {
   "cell_type": "markdown",
   "metadata": {},
   "source": [
    "## Read repeatedly records from oscilloscope\n",
    "This should be run after the initialization step. Timeout at the end should be enlarged if not all 508 frames are transferred."
   ]
  },
  {
   "cell_type": "code",
   "execution_count": 18,
   "metadata": {
    "collapsed": false,
    "scrolled": false
   },
   "outputs": [
    {
     "name": "stdout",
     "output_type": "stream",
     "text": [
      "Deleting ./data/data01.h5\n",
      "XINC: 3e-08 YINC: 0.0008 TRIG: 0.00597 YORIGIN: -73.0 XORIGIN: -3.000001e-06 FRAMES: 1016 SUBRUN 1\n",
      "  Subrun finished, Enter to continue.\n",
      "XINC: 3e-08 YINC: 0.0008 TRIG: 0.00597 YORIGIN: -73.0 XORIGIN: -3.000001e-06 FRAMES: 1016 SUBRUN 2\n",
      "  Subrun finished, Enter to continue.\n",
      "XINC: 3e-08 YINC: 0.0008 TRIG: 0.00597 YORIGIN: -73.0 XORIGIN: -3.000001e-06 FRAMES: 1016 SUBRUN 3\n",
      "  Subrun finished, Enter to continue.\n",
      "XINC: 3e-08 YINC: 0.0008 TRIG: 0.00597 YORIGIN: -73.0 XORIGIN: -3.000001e-06 FRAMES: 1016 SUBRUN 4\n",
      "  Subrun finished, Enter to continue.\n",
      "XINC: 3e-08 YINC: 0.0008 TRIG: 0.00597 YORIGIN: -73.0 XORIGIN: -3.000001e-06 FRAMES: 1016 SUBRUN 5\n",
      "  Subrun finished, Enter to continue.\n",
      "XINC: 3e-08 YINC: 0.0008 TRIG: 0.00597 YORIGIN: -73.0 XORIGIN: -3.000001e-06 FRAMES: 1016 SUBRUN 6\n",
      "  Subrun finished, Enter to continue.\n",
      "XINC: 3e-08 YINC: 0.0008 TRIG: 0.00597 YORIGIN: -73.0 XORIGIN: -3.000001e-06 FRAMES: 1016 SUBRUN 7\n",
      "  Subrun finished, Enter to continue.\n",
      "XINC: 3e-08 YINC: 0.0008 TRIG: 0.00597 YORIGIN: -73.0 XORIGIN: -3.000001e-06 FRAMES: 1016 SUBRUN 8\n",
      "  Subrun finished, Enter to continue.\n",
      "XINC: 3e-08 YINC: 0.0008 TRIG: 0.00597 YORIGIN: -73.0 XORIGIN: -3.000001e-06 FRAMES: 1016 SUBRUN 9\n",
      "  Subrun finished, Enter to continue.\n",
      "XINC: 3e-08 YINC: 0.0008 TRIG: 0.00597 YORIGIN: -73.0 XORIGIN: -3.000001e-06 FRAMES: 1016 SUBRUN 10\n",
      "  Subrun finished, Enter to continue.\n",
      "XINC: 3e-08 YINC: 0.0008 TRIG: 0.00597 YORIGIN: -73.0 XORIGIN: -3.000001e-06 FRAMES: 1016 SUBRUN 11\n",
      "  Subrun finished, Enter to continue.\n"
     ]
    },
    {
     "ename": "KeyboardInterrupt",
     "evalue": "",
     "output_type": "error",
     "traceback": [
      "\u001b[0;31m---------------------------------------------------------------------------\u001b[0m",
      "\u001b[0;31mKeyboardInterrupt\u001b[0m                         Traceback (most recent call last)",
      "\u001b[0;32m<ipython-input-18-8b524669744f>\u001b[0m in \u001b[0;36m<module>\u001b[0;34m()\u001b[0m\n\u001b[1;32m     70\u001b[0m     \u001b[0;32mprint\u001b[0m\u001b[0;34m(\u001b[0m\u001b[0;34m'  Subrun finished, Enter to continue.'\u001b[0m\u001b[0;34m)\u001b[0m\u001b[0;34m\u001b[0m\u001b[0m\n\u001b[1;32m     71\u001b[0m     \u001b[0;31m#raw_input()\u001b[0m\u001b[0;34m\u001b[0m\u001b[0;34m\u001b[0m\u001b[0m\n\u001b[0;32m---> 72\u001b[0;31m     \u001b[0mtime\u001b[0m\u001b[0;34m.\u001b[0m\u001b[0msleep\u001b[0m\u001b[0;34m(\u001b[0m\u001b[0;36m100\u001b[0m\u001b[0;34m)\u001b[0m \u001b[0;31m# delay for capturing\u001b[0m\u001b[0;34m\u001b[0m\u001b[0m\n\u001b[0m\u001b[1;32m     73\u001b[0m     \u001b[0;31m#print(' We were waiting for ', time.time() - run_start_time())\u001b[0m\u001b[0;34m\u001b[0m\u001b[0;34m\u001b[0m\u001b[0m\n\u001b[1;32m     74\u001b[0m \u001b[0;34m\u001b[0m\u001b[0m\n",
      "\u001b[0;31mKeyboardInterrupt\u001b[0m: "
     ]
    }
   ],
   "source": [
    "filename = 1\n",
    "run_start_time = time.time()\n",
    "    \n",
    "if (filename == 1):\n",
    "    for f in glob.iglob(\"./data/*.h5\"): # delete all .h5 files \n",
    "        print 'Deleting', f\n",
    "        os.remove(f)\n",
    "else:\n",
    "    print 'Not removing old files, as filename {0} is not 1.'.format(filename)\n",
    "\n",
    "while True:\n",
    "    osc.write(':WAV:SOUR CHAN1')\n",
    "    osc.write(':WAV:MODE NORM')\n",
    "    osc.write(':WAV:FORM BYTE')\n",
    "    osc.write(':WAV:POIN 1400')\n",
    "\n",
    "    osc.write(':WAV:XINC?')\n",
    "    xinc = float(osc.read(100))\n",
    "    print 'XINC:', xinc,\n",
    "    osc.write(':WAV:YINC?')\n",
    "    yinc = float(osc.read(100))\n",
    "    print 'YINC:', yinc,\n",
    "    osc.write(':TRIGger:EDGe:LEVel?')\n",
    "    trig = float(osc.read(100))\n",
    "    print 'TRIG:', trig,\n",
    "    osc.write(':WAVeform:YORigin?')\n",
    "    yorig = float(osc.read(100))\n",
    "    print 'YORIGIN:', yorig,\n",
    "    osc.write(':WAVeform:XORigin?')\n",
    "    xorig = float(osc.read(100))\n",
    "    print 'XORIGIN:', xorig,\n",
    "    \n",
    "\n",
    "    osc.write(':FUNC:WREP:FEND?') # get number of last frame\n",
    "    frames = int(osc.read(100))\n",
    "    print 'FRAMES:', frames, 'SUBRUN', filename\n",
    "    \n",
    "    # This is not good if the scaling is different and frames are for example just 254\n",
    "    # if (frames < 508):\n",
    "    #    loop_sleep_time += 10\n",
    "\n",
    "    with h5py.File('./data/data'+'{:02.0f}'.format(filename)+'.h5', 'w') as hf:       \n",
    "        hf.create_dataset('FRAMES', data=(frames)) # write number of frames\n",
    "        hf.create_dataset('XINC', data=(xinc)) # write axis parameters\n",
    "        hf.create_dataset('YINC', data=(yinc))\n",
    "        hf.create_dataset('TRIG', data=(trig))\n",
    "        hf.create_dataset('YORIGIN', data=(yorig))\n",
    "        hf.create_dataset('XORIGIN', data=(xorig))\n",
    "        osc.write(':FUNC:WREP:FCUR 1') # skip to n-th frame\n",
    "        time.sleep(0.5)\n",
    "        for n in range(1,frames+1):\n",
    "            osc.write(':FUNC:WREP:FCUR ' + str(n)) # skip to n-th frame\n",
    "            time.sleep(0.001)\n",
    "\n",
    "            osc.write(':WAV:DATA?') # read data\n",
    "            #time.sleep(0.4)\n",
    "            wave1 = bytearray(osc.read_raw(500))\n",
    "            wave2 = bytearray(osc.read_raw(500))\n",
    "            wave3 = bytearray(osc.read_raw(500))\n",
    "            #wave4 = bytearray(osc.read(500))\n",
    "            #wave = np.concatenate((wave1[11:],wave2[:(500-489)],wave3[:(700-489)]))\n",
    "            wave = np.concatenate((wave1[11:],wave2,wave3[:-1]))\n",
    "            hf.create_dataset(str(n), data=wave)\n",
    "    filename = filename + 1\n",
    "    osc.write(':FUNC:WREC:OPER REC') # start recording\n",
    "    #print('  Subrun finished, sleeping for %.0f seconds.' % loop_sleep_time)\n",
    "    run_start_time = time.time()\n",
    "    #time.sleep(loop_sleep_time) # delay for capturing\n",
    "    \n",
    "    print('  Subrun finished, Enter to continue.')\n",
    "    #raw_input()\n",
    "    time.sleep(100) # delay for capturing\n",
    "    #print(' We were waiting for ', time.time() - run_start_time())\n",
    "    "
   ]
  },
  {
   "cell_type": "markdown",
   "metadata": {},
   "source": [
    "### Stopwatch for timing the first loop"
   ]
  },
  {
   "cell_type": "code",
   "execution_count": null,
   "metadata": {
    "collapsed": false
   },
   "outputs": [],
   "source": [
    "first_run_start_time = time.time()\n",
    "raw_input()\n",
    "loop_sleep_time = time.time() - first_run_start_time + 15\n",
    "print loop_sleep_time"
   ]
  },
  {
   "cell_type": "code",
   "execution_count": 9,
   "metadata": {
    "collapsed": true
   },
   "outputs": [],
   "source": [
    "loop_sleep_time=60"
   ]
  },
  {
   "cell_type": "code",
   "execution_count": null,
   "metadata": {
    "collapsed": true
   },
   "outputs": [],
   "source": []
  }
 ],
 "metadata": {
  "kernelspec": {
   "display_name": "Python 2",
   "language": "python",
   "name": "python2"
  },
  "language_info": {
   "codemirror_mode": {
    "name": "ipython",
    "version": 2
   },
   "file_extension": ".py",
   "mimetype": "text/x-python",
   "name": "python",
   "nbconvert_exporter": "python",
   "pygments_lexer": "ipython2",
   "version": "2.7.14"
  }
 },
 "nbformat": 4,
 "nbformat_minor": 2
}
