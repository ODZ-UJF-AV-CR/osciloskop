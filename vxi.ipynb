{
 "cells": [
  {
   "cell_type": "markdown",
   "metadata": {},
   "source": [
    "# Oscilloskope utility – using Ethernet"
   ]
  },
  {
   "cell_type": "code",
   "execution_count": 27,
   "metadata": {
    "collapsed": false
   },
   "outputs": [
    {
     "name": "stdout",
     "output_type": "stream",
     "text": [
      "Initializing connection to: TCPIP::192.168.13.10::INSTR\n",
      "RIGOL TECHNOLOGIES,DS2102A,DS2D174501960,00.03.04.SP2\n"
     ]
    }
   ],
   "source": [
    "import matplotlib.pyplot as plt\n",
    "import sys\n",
    "import os\n",
    "import time\n",
    "import h5py\n",
    "import numpy as np\n",
    "import glob\n",
    "import vxi11\n",
    "\n",
    "# Step 0:\n",
    "# Connect oscilloscope via direct Ethernet link\n",
    "# Step 1:\n",
    "# Run \"Record\" on the oscilloscope\n",
    "# and wait for 508 frames to be acquired.\n",
    "# Step 2:\n",
    "# Run this cell to initialize grabbing.\n",
    "\n",
    "\n",
    "# This will need a rewrite\n",
    "class TmcDriver:\n",
    "\n",
    "    def __init__(self, device):\n",
    "        print(\"Initializing connection to: \" + device)\n",
    "        self.device = device\n",
    "        self.instr = vxi11.Instrument(device)\n",
    " \n",
    "    def write(self, command):\n",
    "        self.instr.write(command);\n",
    "\n",
    "    def read(self, length = 500):\n",
    "        return self.instr.read(length)\n",
    "\n",
    "    def read_raw(self, length = 500):\n",
    "        return self.instr.read_raw(length)\n",
    " \n",
    "    def getName(self):\n",
    "        self.write(\"*IDN?\")\n",
    "        return self.read(300)\n",
    "    \n",
    "    def ask(self, command):\n",
    "        return self.instr.ask(command)\n",
    " \n",
    "    def sendReset(self):\n",
    "        self.write(\"*RST\")  # Be carefull, this real resets an oscilloscope\n",
    "        \n",
    "# Default oscilloscope record timeout [s]\n",
    "loop_sleep_time = 60\n",
    "        \n",
    "# For Ethernet\n",
    "#osc = TmcDriver(\"TCPIP::147.231.24.72::INSTR\")\n",
    "osc = TmcDriver(\"TCPIP::192.168.13.10::INSTR\")\n",
    "print(osc.ask(\"*IDN?\"))"
   ]
  },
  {
   "cell_type": "markdown",
   "metadata": {},
   "source": [
    "## Read repeatedly records from oscilloscope\n",
    "This should be run after the initialization step. Timeout at the end should be enlarged if not all 508 frames are transferred."
   ]
  },
  {
   "cell_type": "code",
   "execution_count": null,
   "metadata": {
    "collapsed": true
   },
   "outputs": [],
   "source": [
    "first_run_start_time = time.time()\n",
    "raw_input()\n",
    "loop_sleep_time = time.time() - first_run_start_time + 10"
   ]
  },
  {
   "cell_type": "code",
   "execution_count": 29,
   "metadata": {
    "collapsed": false
   },
   "outputs": [
    {
     "name": "stdout",
     "output_type": "stream",
     "text": [
      "Deleting ./data/data1.h5\n",
      "Deleting ./data/data2.h5\n",
      "Deleting ./data/data3.h5\n",
      "Deleting ./data/data4.h5\n",
      "Deleting ./data/data5.h5\n",
      "XINC: 5e-08 YINC: 0.0004 TRIG: 0.0074 YORIGIN: -79.0 FRAMES: 508 SUBRUN 1\n",
      "  Subrun finished, sleeping for 55 seconds.\n",
      "XINC: 5e-08 YINC: 0.0004 TRIG: 0.0074 YORIGIN: -79.0 FRAMES: 0 SUBRUN 2\n",
      "  Subrun finished, sleeping for 65 seconds.\n",
      "XINC: 5e-08 YINC: 0.0004 TRIG: 0.0074 YORIGIN: -79.0 FRAMES: 508 SUBRUN 3\n",
      "  Subrun finished, sleeping for 65 seconds.\n",
      "XINC: 5e-08 YINC: 0.0004 TRIG: 0.0074 YORIGIN: -79.0 FRAMES: 508 SUBRUN 4\n",
      "  Subrun finished, sleeping for 65 seconds.\n",
      "XINC: 5e-08 YINC: 0.0004 TRIG: 0.0074 YORIGIN: -79.0 FRAMES: 508 SUBRUN 5\n",
      "  Subrun finished, sleeping for 65 seconds.\n",
      "XINC: 5e-08 YINC: 0.0004 TRIG: 0.0074 YORIGIN: -79.0 FRAMES: 508 SUBRUN 6\n",
      "  Subrun finished, sleeping for 65 seconds.\n",
      "XINC: 5e-08 YINC: 0.0004 TRIG: 0.0074 YORIGIN: -79.0 FRAMES: 508 SUBRUN 7\n"
     ]
    },
    {
     "ename": "KeyboardInterrupt",
     "evalue": "",
     "output_type": "error",
     "traceback": [
      "\u001b[0;31m---------------------------------------------------------------------------\u001b[0m",
      "\u001b[0;31mKeyboardInterrupt\u001b[0m                         Traceback (most recent call last)",
      "\u001b[0;32m<ipython-input-29-ecd7a7994a31>\u001b[0m in \u001b[0;36m<module>\u001b[0;34m()\u001b[0m\n\u001b[1;32m     41\u001b[0m         \u001b[0;32mfor\u001b[0m \u001b[0mn\u001b[0m \u001b[0;32min\u001b[0m \u001b[0mrange\u001b[0m\u001b[0;34m(\u001b[0m\u001b[0;36m1\u001b[0m\u001b[0;34m,\u001b[0m\u001b[0mframes\u001b[0m\u001b[0;34m+\u001b[0m\u001b[0;36m1\u001b[0m\u001b[0;34m)\u001b[0m\u001b[0;34m:\u001b[0m\u001b[0;34m\u001b[0m\u001b[0m\n\u001b[1;32m     42\u001b[0m             \u001b[0mosc\u001b[0m\u001b[0;34m.\u001b[0m\u001b[0mwrite\u001b[0m\u001b[0;34m(\u001b[0m\u001b[0;34m':FUNC:WREP:FCUR '\u001b[0m \u001b[0;34m+\u001b[0m \u001b[0mstr\u001b[0m\u001b[0;34m(\u001b[0m\u001b[0mn\u001b[0m\u001b[0;34m)\u001b[0m\u001b[0;34m)\u001b[0m \u001b[0;31m# skip to n-th frame\u001b[0m\u001b[0;34m\u001b[0m\u001b[0m\n\u001b[0;32m---> 43\u001b[0;31m             \u001b[0mtime\u001b[0m\u001b[0;34m.\u001b[0m\u001b[0msleep\u001b[0m\u001b[0;34m(\u001b[0m\u001b[0;36m0.1\u001b[0m\u001b[0;34m)\u001b[0m\u001b[0;34m\u001b[0m\u001b[0m\n\u001b[0m\u001b[1;32m     44\u001b[0m \u001b[0;34m\u001b[0m\u001b[0m\n\u001b[1;32m     45\u001b[0m             \u001b[0mosc\u001b[0m\u001b[0;34m.\u001b[0m\u001b[0mwrite\u001b[0m\u001b[0;34m(\u001b[0m\u001b[0;34m':WAV:DATA?'\u001b[0m\u001b[0;34m)\u001b[0m \u001b[0;31m# read data\u001b[0m\u001b[0;34m\u001b[0m\u001b[0m\n",
      "\u001b[0;31mKeyboardInterrupt\u001b[0m: "
     ]
    }
   ],
   "source": [
    "filename = 7\n",
    "\n",
    "if (filename == 1):\n",
    "    for f in glob.iglob(\"./data/*.h5\"): # delete all .h5 files \n",
    "        print 'Deleting', f\n",
    "        os.remove(f)\n",
    "else:\n",
    "    print 'Not removing old files, as filename {0} is not 1.'.format(filename)\n",
    "\n",
    "while True:\n",
    "    osc.write(':WAV:SOUR CHAN1')\n",
    "    osc.write(':WAV:MODE NORM')\n",
    "    osc.write(':WAV:FORM BYTE')\n",
    "    osc.write(':WAV:POIN 1400')\n",
    "\n",
    "    osc.write(':WAV:XINC?')\n",
    "    xinc = float(osc.read(100))\n",
    "    print 'XINC:', xinc,\n",
    "    osc.write(':WAV:YINC?')\n",
    "    yinc = float(osc.read(100))\n",
    "    print 'YINC:', yinc,\n",
    "    osc.write(':TRIGger:EDGe:LEVel?')\n",
    "    trig = float(osc.read(100))\n",
    "    print 'TRIG:', trig,\n",
    "    osc.write(':WAVeform:YORigin?')\n",
    "    yorig = float(osc.read(100))\n",
    "    print 'YORIGIN:', yorig,\n",
    "    \n",
    "\n",
    "    osc.write(':FUNC:WREP:FEND?') # get number of last frame\n",
    "    frames = int(osc.read(100))\n",
    "    print 'FRAMES:', frames, 'SUBRUN', filename\n",
    "    \n",
    "    if (frames < 508):\n",
    "        loop_sleep_time += 10\n",
    "\n",
    "    with h5py.File('./data/data'+str(filename)+'.h5', 'w') as hf:       \n",
    "        hf.create_dataset('FRAMES', data=(frames)) # write number of frames\n",
    "        hf.create_dataset('XINC', data=(xinc)) # write axis parameters\n",
    "        hf.create_dataset('YINC', data=(yinc))\n",
    "        hf.create_dataset('TRIG', data=(trig))\n",
    "        hf.create_dataset('YORIGIN', data=(yorig))\n",
    "        osc.write(':FUNC:WREP:FCUR 1') # skip to n-th frame\n",
    "        time.sleep(0.5)\n",
    "        for n in range(1,frames+1):\n",
    "            osc.write(':FUNC:WREP:FCUR ' + str(n)) # skip to n-th frame\n",
    "            time.sleep(0.1)\n",
    "\n",
    "            osc.write(':WAV:DATA?') # read data\n",
    "            #time.sleep(0.4)\n",
    "            wave1 = bytearray(osc.read_raw(500))\n",
    "            wave2 = bytearray(osc.read_raw(500))\n",
    "            wave3 = bytearray(osc.read_raw(500))\n",
    "            #wave4 = bytearray(osc.read(500))\n",
    "            #wave = np.concatenate((wave1[11:],wave2[:(500-489)],wave3[:(700-489)]))\n",
    "            wave = np.concatenate((wave1[11:],wave2,wave3[:-1]))\n",
    "            hf.create_dataset(str(n), data=wave)\n",
    "    filename = filename + 1\n",
    "    osc.write(':FUNC:WREC:OPER REC') # start recording\n",
    "    print('  Subrun finished, sleeping for %.0f seconds.' % loop_sleep_time)\n",
    "    time.sleep(loop_sleep_time) # delay for capturing"
   ]
  },
  {
   "cell_type": "code",
   "execution_count": null,
   "metadata": {
    "collapsed": true
   },
   "outputs": [],
   "source": []
  }
 ],
 "metadata": {
  "kernelspec": {
   "display_name": "Python 2",
   "language": "python",
   "name": "python2"
  },
  "language_info": {
   "codemirror_mode": {
    "name": "ipython",
    "version": 2
   },
   "file_extension": ".py",
   "mimetype": "text/x-python",
   "name": "python",
   "nbconvert_exporter": "python",
   "pygments_lexer": "ipython2",
   "version": "2.7.13"
  }
 },
 "nbformat": 4,
 "nbformat_minor": 2
}
