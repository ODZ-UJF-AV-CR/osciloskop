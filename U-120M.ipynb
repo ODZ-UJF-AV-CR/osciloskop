{
 "cells": [
  {
   "cell_type": "markdown",
   "metadata": {},
   "source": [
    "# Oscilloskope USBTCM utility"
   ]
  },
  {
   "cell_type": "code",
   "execution_count": 20,
   "metadata": {
    "collapsed": true
   },
   "outputs": [],
   "source": [
    "import matplotlib.pyplot as plt\n",
    "import sys\n",
    "import os\n",
    "import time\n",
    "import h5py\n",
    "import numpy as np\n",
    "import glob\n",
    "\n",
    "# Step 1:\n",
    "# Run \"Record\" on the oscilloscope\n",
    "# and wait for 508 frames to be acquired.\n",
    "# Step 2:\n",
    "# Run this cell to initialize grabbing.\n",
    "# This requires rw access to the /dev/usbtmc0 device.\n",
    "# This can be granted by for example: 'sudo chmod a+rw /dev/usbtmc0'\n",
    "\n",
    "class UsbTmcDriver:\n",
    "\n",
    "    def __init__(self, device):\n",
    "        self.device = device\n",
    "        self.FILE = os.open(device, os.O_RDWR)\n",
    " \n",
    "    def write(self, command):\n",
    "        os.write(self.FILE, command);\n",
    " \n",
    "    def read(self, length = 500):\n",
    "        return os.read(self.FILE, length)\n",
    " \n",
    "    def getName(self):\n",
    "        self.write(\"*IDN?\")\n",
    "        return self.read(300)\n",
    " \n",
    "    def sendReset(self):\n",
    "        self.write(\"*RST\")  # Be carefull, this real resets an oscilloscope\n",
    "\n",
    "# Looking for USBTMC device\n",
    "def getDeviceList(): \n",
    "    dirList=os.listdir(\"/dev\")\n",
    "    result=list()\n",
    "\n",
    "    for fname in dirList:\n",
    "        if(fname.startswith(\"usbtmc\")):\n",
    "            result.append(\"/dev/\" + fname)\n",
    "\n",
    "    return result\n",
    "\n",
    "# looking for oscilloscope\n",
    "devices =  getDeviceList()\n",
    "# initiate oscilloscope\n",
    "osc = UsbTmcDriver(devices[0])\n"
   ]
  },
  {
   "cell_type": "markdown",
   "metadata": {},
   "source": [
    "## Read repeatedly records from oscilloscope\n",
    "\n",
    "This should be run after the initialization step.\n",
    "Timeout at the end should be enlarged if not all 508 frames are transferred."
   ]
  },
  {
   "cell_type": "code",
   "execution_count": 19,
   "metadata": {},
   "outputs": [
    {
     "name": "stdout",
     "output_type": "stream",
     "text": [
      "XINC: 5e-08 YINC: 0.002 TRIG: 0.0162 YORIGIN: -79.0 FRAMES: 508 SUBRUN 1\n",
      "XINC: 5e-08 YINC: 0.002 TRIG: 0.0162 YORIGIN: -79.0 FRAMES: 508 SUBRUN 2\n",
      "XINC: 5e-08 YINC: 0.002 TRIG: 0.0162 YORIGIN: -79.0 FRAMES: 508 SUBRUN 3\n",
      "XINC: 5e-08 YINC: 0.002 TRIG: 0.0162 YORIGIN: -79.0 FRAMES: 508 SUBRUN 4\n",
      "XINC: 5e-08 YINC: 0.002 TRIG: 0.0162 YORIGIN: -79.0 FRAMES: 508 SUBRUN 5\n",
      "XINC: 5e-08 YINC: 0.002 TRIG: 0.0162 YORIGIN: -79.0 FRAMES: 508 SUBRUN 6\n",
      "XINC: 5e-08 YINC: 0.002 TRIG: 0.0162 YORIGIN: -79.0 FRAMES: 508 SUBRUN 7\n",
      "XINC: 5e-08 YINC: 0.002 TRIG: 0.0162 YORIGIN: -79.0 FRAMES: 508 SUBRUN 8\n"
     ]
    },
    {
     "ename": "KeyboardInterrupt",
     "evalue": "",
     "output_type": "error",
     "traceback": [
      "\u001b[0;31m---------------------------------------------------------------------------\u001b[0m",
      "\u001b[0;31mKeyboardInterrupt\u001b[0m                         Traceback (most recent call last)",
      "\u001b[0;32m<ipython-input-19-6dc8909da751>\u001b[0m in \u001b[0;36m<module>\u001b[0;34m()\u001b[0m\n\u001b[1;32m     51\u001b[0m     \u001b[0mfilename\u001b[0m \u001b[0;34m=\u001b[0m \u001b[0mfilename\u001b[0m \u001b[0;34m+\u001b[0m \u001b[0;36m1\u001b[0m\u001b[0;34m\u001b[0m\u001b[0m\n\u001b[1;32m     52\u001b[0m     \u001b[0mosc\u001b[0m\u001b[0;34m.\u001b[0m\u001b[0mwrite\u001b[0m\u001b[0;34m(\u001b[0m\u001b[0;34m':FUNC:WREC:OPER REC'\u001b[0m\u001b[0;34m)\u001b[0m \u001b[0;31m# start recording\u001b[0m\u001b[0;34m\u001b[0m\u001b[0m\n\u001b[0;32m---> 53\u001b[0;31m     \u001b[0mtime\u001b[0m\u001b[0;34m.\u001b[0m\u001b[0msleep\u001b[0m\u001b[0;34m(\u001b[0m\u001b[0;36m30\u001b[0m\u001b[0;34m)\u001b[0m \u001b[0;31m# delay for capturing\u001b[0m\u001b[0;34m\u001b[0m\u001b[0m\n\u001b[0m",
      "\u001b[0;31mKeyboardInterrupt\u001b[0m: "
     ]
    }
   ],
   "source": [
    "for f in glob.iglob(\"./data/*.h5\"): # delete all .h5 files \n",
    "    #print 'Deleting', f\n",
    "    os.remove(f)\n",
    "\n",
    "filename = 1\n",
    "while True:\n",
    "    osc.write(':WAV:SOUR CHAN1')\n",
    "    osc.write(':WAV:MODE NORM')\n",
    "    osc.write(':WAV:FORM BYTE')\n",
    "    osc.write(':WAV:POIN 1400')\n",
    "\n",
    "    osc.write(':WAV:XINC?')\n",
    "    xinc = float(osc.read(100))\n",
    "    print 'XINC:', xinc,\n",
    "    osc.write(':WAV:YINC?')\n",
    "    yinc = float(osc.read(100))\n",
    "    print 'YINC:', yinc,\n",
    "    osc.write(':TRIGger:EDGe:LEVel?')\n",
    "    trig = float(osc.read(100))\n",
    "    print 'TRIG:', trig,\n",
    "    osc.write(':WAVeform:YORigin?')\n",
    "    yorig = float(osc.read(100))\n",
    "    print 'YORIGIN:', yorig,\n",
    "    \n",
    "\n",
    "    osc.write(':FUNC:WREP:FEND?') # get number of last frame\n",
    "    frames = int(osc.read(100))\n",
    "    print 'FRAMES:', frames, 'SUBRUN', filename\n",
    "\n",
    "    with h5py.File('./data/data'+str(filename)+'.h5', 'w') as hf:       \n",
    "        hf.create_dataset('FRAMES', data=(frames)) # write number of frames\n",
    "        hf.create_dataset('XINC', data=(xinc)) # write axis parameters\n",
    "        hf.create_dataset('YINC', data=(yinc))\n",
    "        hf.create_dataset('TRIG', data=(trig))\n",
    "        hf.create_dataset('YORIGIN', data=(yorig))\n",
    "        osc.write(':FUNC:WREP:FCUR 1') # skip to n-th frame\n",
    "        time.sleep(0.5)\n",
    "        for n in range(1,frames+1):\n",
    "            osc.write(':FUNC:WREP:FCUR ' + str(n)) # skip to n-th frame\n",
    "            time.sleep(0.1)\n",
    "\n",
    "            osc.write(':WAV:DATA?') # read data\n",
    "            #time.sleep(0.4)\n",
    "            wave1 = bytearray(osc.read(500))\n",
    "            wave2 = bytearray(osc.read(500))\n",
    "            wave3 = bytearray(osc.read(500))\n",
    "            #wave4 = bytearray(osc.read(500))\n",
    "            #wave = np.concatenate((wave1[11:],wave2[:(500-489)],wave3[:(700-489)]))\n",
    "            wave = np.concatenate((wave1[11:],wave2,wave3[:-1]))\n",
    "            hf.create_dataset(str(n), data=wave)\n",
    "    filename = filename + 1\n",
    "    osc.write(':FUNC:WREC:OPER REC') # start recording\n",
    "    time.sleep(30) # delay for capturing\n"
   ]
  },
  {
   "cell_type": "code",
   "execution_count": null,
   "metadata": {
    "collapsed": true
   },
   "outputs": [],
   "source": []
  }
 ],
 "metadata": {
  "kernelspec": {
   "display_name": "Python 2",
   "language": "python",
   "name": "python2"
  },
  "language_info": {
   "codemirror_mode": {
    "name": "ipython",
    "version": 2
   },
   "file_extension": ".py",
   "mimetype": "text/x-python",
   "name": "python",
   "nbconvert_exporter": "python",
   "pygments_lexer": "ipython2",
   "version": "2.7.12"
  }
 },
 "nbformat": 4,
 "nbformat_minor": 1
}
