{
 "cells": [
  {
   "cell_type": "code",
   "execution_count": 97,
   "metadata": {},
   "outputs": [],
   "source": [
    "import re\n",
    "import struct\n",
    "import datetime\n",
    "\n",
    "# This gives bullshit\n",
    "def weeksecondstoutc(gpsweek,gpsseconds,leapseconds):\n",
    "    import datetime, calendar\n",
    "    datetimeformat = \"%Y-%m-%d %H:%M:%S\"\n",
    "    epoch = datetime.datetime.strptime(\"1980-01-06 00:00:00\",datetimeformat)\n",
    "    elapsed = datetime.timedelta(days=(gpsweek*7),seconds=(gpsseconds+leapseconds))\n",
    "    return datetime.datetime.strftime(epoch + elapsed,datetimeformat)\n",
    "\n",
    "gpsdata = open('data/data.gps','rb').read()\n",
    "#print(gpsdata, 'x')\n",
    "for msg in re.findall('\\xb5b\\r.{33}', gpsdata):\n",
    "    (ch, flags, count, wnR, wnF, towMsR, towSubMsR, towMsF, towSubMsF, accEst) = \\\n",
    "        struct.unpack('<BBHHHIIIII', msg[5:33])\n",
    "    print(count,wnR, towMsR)\n",
    "\n",
    "    #print 1e-6*towMsR,1e-9*towSubMsR\n",
    "    \n",
    "    \n"
   ]
  },
  {
   "cell_type": "code",
   "execution_count": null,
   "metadata": {},
   "outputs": [],
   "source": []
  },
  {
   "cell_type": "code",
   "execution_count": null,
   "metadata": {},
   "outputs": [],
   "source": []
  }
 ],
 "metadata": {
  "kernelspec": {
   "display_name": "Python 2",
   "language": "python",
   "name": "python2"
  },
  "language_info": {
   "codemirror_mode": {
    "name": "ipython",
    "version": 2
   },
   "file_extension": ".py",
   "mimetype": "text/x-python",
   "name": "python",
   "nbconvert_exporter": "python",
   "pygments_lexer": "ipython2",
   "version": "2.7.14"
  }
 },
 "nbformat": 4,
 "nbformat_minor": 2
}
